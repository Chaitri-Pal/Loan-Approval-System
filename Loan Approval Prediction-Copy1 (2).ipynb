{
 "cells": [
  {
   "cell_type": "markdown",
   "id": "a0252075",
   "metadata": {},
   "source": [
    "### Importing the Libraries"
   ]
  },
  {
   "cell_type": "code",
   "execution_count": 1,
   "id": "e67ffdab",
   "metadata": {},
   "outputs": [],
   "source": [
    "##Importing the Libraries\n",
    "import numpy as np\n",
    "import pandas as pd\n",
    "import matplotlib.pyplot as plt\n",
    "import seaborn as sns"
   ]
  },
  {
   "cell_type": "markdown",
   "id": "7ed8f30d",
   "metadata": {},
   "source": [
    "### Importing the Dataset"
   ]
  },
  {
   "cell_type": "code",
   "execution_count": 2,
   "id": "898ec671",
   "metadata": {},
   "outputs": [
    {
     "data": {
      "text/html": [
       "<div>\n",
       "<style scoped>\n",
       "    .dataframe tbody tr th:only-of-type {\n",
       "        vertical-align: middle;\n",
       "    }\n",
       "\n",
       "    .dataframe tbody tr th {\n",
       "        vertical-align: top;\n",
       "    }\n",
       "\n",
       "    .dataframe thead th {\n",
       "        text-align: right;\n",
       "    }\n",
       "</style>\n",
       "<table border=\"1\" class=\"dataframe\">\n",
       "  <thead>\n",
       "    <tr style=\"text-align: right;\">\n",
       "      <th></th>\n",
       "      <th>Loan_ID</th>\n",
       "      <th>Gender</th>\n",
       "      <th>Married</th>\n",
       "      <th>Dependents</th>\n",
       "      <th>Education</th>\n",
       "      <th>Self_Employed</th>\n",
       "      <th>ApplicantIncome</th>\n",
       "      <th>CoapplicantIncome</th>\n",
       "      <th>LoanAmount</th>\n",
       "      <th>Loan_Amount_Term</th>\n",
       "      <th>Credit_History</th>\n",
       "      <th>Property_Area</th>\n",
       "      <th>Loan_Status</th>\n",
       "    </tr>\n",
       "  </thead>\n",
       "  <tbody>\n",
       "    <tr>\n",
       "      <th>0</th>\n",
       "      <td>LP001002</td>\n",
       "      <td>Male</td>\n",
       "      <td>No</td>\n",
       "      <td>0</td>\n",
       "      <td>Graduate</td>\n",
       "      <td>No</td>\n",
       "      <td>5849</td>\n",
       "      <td>0.0</td>\n",
       "      <td>NaN</td>\n",
       "      <td>360.0</td>\n",
       "      <td>1.0</td>\n",
       "      <td>Urban</td>\n",
       "      <td>Y</td>\n",
       "    </tr>\n",
       "    <tr>\n",
       "      <th>1</th>\n",
       "      <td>LP001003</td>\n",
       "      <td>Male</td>\n",
       "      <td>Yes</td>\n",
       "      <td>1</td>\n",
       "      <td>Graduate</td>\n",
       "      <td>No</td>\n",
       "      <td>4583</td>\n",
       "      <td>1508.0</td>\n",
       "      <td>128.0</td>\n",
       "      <td>360.0</td>\n",
       "      <td>1.0</td>\n",
       "      <td>Rural</td>\n",
       "      <td>N</td>\n",
       "    </tr>\n",
       "    <tr>\n",
       "      <th>2</th>\n",
       "      <td>LP001005</td>\n",
       "      <td>Male</td>\n",
       "      <td>Yes</td>\n",
       "      <td>0</td>\n",
       "      <td>Graduate</td>\n",
       "      <td>Yes</td>\n",
       "      <td>3000</td>\n",
       "      <td>0.0</td>\n",
       "      <td>66.0</td>\n",
       "      <td>360.0</td>\n",
       "      <td>1.0</td>\n",
       "      <td>Urban</td>\n",
       "      <td>Y</td>\n",
       "    </tr>\n",
       "    <tr>\n",
       "      <th>3</th>\n",
       "      <td>LP001006</td>\n",
       "      <td>Male</td>\n",
       "      <td>Yes</td>\n",
       "      <td>0</td>\n",
       "      <td>Not Graduate</td>\n",
       "      <td>No</td>\n",
       "      <td>2583</td>\n",
       "      <td>2358.0</td>\n",
       "      <td>120.0</td>\n",
       "      <td>360.0</td>\n",
       "      <td>1.0</td>\n",
       "      <td>Urban</td>\n",
       "      <td>Y</td>\n",
       "    </tr>\n",
       "    <tr>\n",
       "      <th>4</th>\n",
       "      <td>LP001008</td>\n",
       "      <td>Male</td>\n",
       "      <td>No</td>\n",
       "      <td>0</td>\n",
       "      <td>Graduate</td>\n",
       "      <td>No</td>\n",
       "      <td>6000</td>\n",
       "      <td>0.0</td>\n",
       "      <td>141.0</td>\n",
       "      <td>360.0</td>\n",
       "      <td>1.0</td>\n",
       "      <td>Urban</td>\n",
       "      <td>Y</td>\n",
       "    </tr>\n",
       "  </tbody>\n",
       "</table>\n",
       "</div>"
      ],
      "text/plain": [
       "    Loan_ID Gender Married Dependents     Education Self_Employed  \\\n",
       "0  LP001002   Male      No          0      Graduate            No   \n",
       "1  LP001003   Male     Yes          1      Graduate            No   \n",
       "2  LP001005   Male     Yes          0      Graduate           Yes   \n",
       "3  LP001006   Male     Yes          0  Not Graduate            No   \n",
       "4  LP001008   Male      No          0      Graduate            No   \n",
       "\n",
       "   ApplicantIncome  CoapplicantIncome  LoanAmount  Loan_Amount_Term  \\\n",
       "0             5849                0.0         NaN             360.0   \n",
       "1             4583             1508.0       128.0             360.0   \n",
       "2             3000                0.0        66.0             360.0   \n",
       "3             2583             2358.0       120.0             360.0   \n",
       "4             6000                0.0       141.0             360.0   \n",
       "\n",
       "   Credit_History Property_Area Loan_Status  \n",
       "0             1.0         Urban           Y  \n",
       "1             1.0         Rural           N  \n",
       "2             1.0         Urban           Y  \n",
       "3             1.0         Urban           Y  \n",
       "4             1.0         Urban           Y  "
      ]
     },
     "execution_count": 2,
     "metadata": {},
     "output_type": "execute_result"
    }
   ],
   "source": [
    "##Importing the Dataset\n",
    "df = pd.read_csv('Loan.csv')\n",
    "df.head()"
   ]
  },
  {
   "cell_type": "code",
   "execution_count": 3,
   "id": "f653a430",
   "metadata": {},
   "outputs": [
    {
     "data": {
      "text/html": [
       "<div>\n",
       "<style scoped>\n",
       "    .dataframe tbody tr th:only-of-type {\n",
       "        vertical-align: middle;\n",
       "    }\n",
       "\n",
       "    .dataframe tbody tr th {\n",
       "        vertical-align: top;\n",
       "    }\n",
       "\n",
       "    .dataframe thead th {\n",
       "        text-align: right;\n",
       "    }\n",
       "</style>\n",
       "<table border=\"1\" class=\"dataframe\">\n",
       "  <thead>\n",
       "    <tr style=\"text-align: right;\">\n",
       "      <th></th>\n",
       "      <th>ApplicantIncome</th>\n",
       "      <th>CoapplicantIncome</th>\n",
       "      <th>LoanAmount</th>\n",
       "      <th>Loan_Amount_Term</th>\n",
       "      <th>Credit_History</th>\n",
       "    </tr>\n",
       "  </thead>\n",
       "  <tbody>\n",
       "    <tr>\n",
       "      <th>count</th>\n",
       "      <td>614.000000</td>\n",
       "      <td>614.000000</td>\n",
       "      <td>592.000000</td>\n",
       "      <td>600.00000</td>\n",
       "      <td>564.000000</td>\n",
       "    </tr>\n",
       "    <tr>\n",
       "      <th>mean</th>\n",
       "      <td>5403.459283</td>\n",
       "      <td>1621.245798</td>\n",
       "      <td>146.412162</td>\n",
       "      <td>342.00000</td>\n",
       "      <td>0.842199</td>\n",
       "    </tr>\n",
       "    <tr>\n",
       "      <th>std</th>\n",
       "      <td>6109.041673</td>\n",
       "      <td>2926.248369</td>\n",
       "      <td>85.587325</td>\n",
       "      <td>65.12041</td>\n",
       "      <td>0.364878</td>\n",
       "    </tr>\n",
       "    <tr>\n",
       "      <th>min</th>\n",
       "      <td>150.000000</td>\n",
       "      <td>0.000000</td>\n",
       "      <td>9.000000</td>\n",
       "      <td>12.00000</td>\n",
       "      <td>0.000000</td>\n",
       "    </tr>\n",
       "    <tr>\n",
       "      <th>25%</th>\n",
       "      <td>2877.500000</td>\n",
       "      <td>0.000000</td>\n",
       "      <td>100.000000</td>\n",
       "      <td>360.00000</td>\n",
       "      <td>1.000000</td>\n",
       "    </tr>\n",
       "    <tr>\n",
       "      <th>50%</th>\n",
       "      <td>3812.500000</td>\n",
       "      <td>1188.500000</td>\n",
       "      <td>128.000000</td>\n",
       "      <td>360.00000</td>\n",
       "      <td>1.000000</td>\n",
       "    </tr>\n",
       "    <tr>\n",
       "      <th>75%</th>\n",
       "      <td>5795.000000</td>\n",
       "      <td>2297.250000</td>\n",
       "      <td>168.000000</td>\n",
       "      <td>360.00000</td>\n",
       "      <td>1.000000</td>\n",
       "    </tr>\n",
       "    <tr>\n",
       "      <th>max</th>\n",
       "      <td>81000.000000</td>\n",
       "      <td>41667.000000</td>\n",
       "      <td>700.000000</td>\n",
       "      <td>480.00000</td>\n",
       "      <td>1.000000</td>\n",
       "    </tr>\n",
       "  </tbody>\n",
       "</table>\n",
       "</div>"
      ],
      "text/plain": [
       "       ApplicantIncome  CoapplicantIncome  LoanAmount  Loan_Amount_Term  \\\n",
       "count       614.000000         614.000000  592.000000         600.00000   \n",
       "mean       5403.459283        1621.245798  146.412162         342.00000   \n",
       "std        6109.041673        2926.248369   85.587325          65.12041   \n",
       "min         150.000000           0.000000    9.000000          12.00000   \n",
       "25%        2877.500000           0.000000  100.000000         360.00000   \n",
       "50%        3812.500000        1188.500000  128.000000         360.00000   \n",
       "75%        5795.000000        2297.250000  168.000000         360.00000   \n",
       "max       81000.000000       41667.000000  700.000000         480.00000   \n",
       "\n",
       "       Credit_History  \n",
       "count      564.000000  \n",
       "mean         0.842199  \n",
       "std          0.364878  \n",
       "min          0.000000  \n",
       "25%          1.000000  \n",
       "50%          1.000000  \n",
       "75%          1.000000  \n",
       "max          1.000000  "
      ]
     },
     "execution_count": 3,
     "metadata": {},
     "output_type": "execute_result"
    }
   ],
   "source": [
    "df.describe()"
   ]
  },
  {
   "cell_type": "code",
   "execution_count": 4,
   "id": "2712af37",
   "metadata": {},
   "outputs": [
    {
     "name": "stdout",
     "output_type": "stream",
     "text": [
      "<class 'pandas.core.frame.DataFrame'>\n",
      "RangeIndex: 614 entries, 0 to 613\n",
      "Data columns (total 13 columns):\n",
      " #   Column             Non-Null Count  Dtype  \n",
      "---  ------             --------------  -----  \n",
      " 0   Loan_ID            614 non-null    object \n",
      " 1   Gender             601 non-null    object \n",
      " 2   Married            611 non-null    object \n",
      " 3   Dependents         599 non-null    object \n",
      " 4   Education          614 non-null    object \n",
      " 5   Self_Employed      582 non-null    object \n",
      " 6   ApplicantIncome    614 non-null    int64  \n",
      " 7   CoapplicantIncome  614 non-null    float64\n",
      " 8   LoanAmount         592 non-null    float64\n",
      " 9   Loan_Amount_Term   600 non-null    float64\n",
      " 10  Credit_History     564 non-null    float64\n",
      " 11  Property_Area      614 non-null    object \n",
      " 12  Loan_Status        614 non-null    object \n",
      "dtypes: float64(4), int64(1), object(8)\n",
      "memory usage: 62.5+ KB\n"
     ]
    }
   ],
   "source": [
    "df.info()"
   ]
  },
  {
   "cell_type": "markdown",
   "id": "04dbaa9b",
   "metadata": {},
   "source": [
    "### Checking for missing values  "
   ]
  },
  {
   "cell_type": "code",
   "execution_count": 5,
   "id": "b5d652e8",
   "metadata": {},
   "outputs": [
    {
     "data": {
      "text/plain": [
       "Loan_ID               0\n",
       "Gender               13\n",
       "Married               3\n",
       "Dependents           15\n",
       "Education             0\n",
       "Self_Employed        32\n",
       "ApplicantIncome       0\n",
       "CoapplicantIncome     0\n",
       "LoanAmount           22\n",
       "Loan_Amount_Term     14\n",
       "Credit_History       50\n",
       "Property_Area         0\n",
       "Loan_Status           0\n",
       "dtype: int64"
      ]
     },
     "execution_count": 5,
     "metadata": {},
     "output_type": "execute_result"
    }
   ],
   "source": [
    "#Checking Missing values\n",
    "df.isnull().sum()"
   ]
  },
  {
   "cell_type": "markdown",
   "id": "cc5e2dea",
   "metadata": {},
   "source": [
    "### Filling Missing Values"
   ]
  },
  {
   "cell_type": "code",
   "execution_count": 6,
   "id": "9e3b99a3",
   "metadata": {},
   "outputs": [
    {
     "data": {
      "text/plain": [
       "Loan_ID               0\n",
       "Gender               13\n",
       "Married               3\n",
       "Dependents           15\n",
       "Education             0\n",
       "Self_Employed        32\n",
       "ApplicantIncome       0\n",
       "CoapplicantIncome     0\n",
       "LoanAmount            0\n",
       "Loan_Amount_Term      0\n",
       "Credit_History        0\n",
       "Property_Area         0\n",
       "Loan_Status           0\n",
       "dtype: int64"
      ]
     },
     "execution_count": 6,
     "metadata": {},
     "output_type": "execute_result"
    }
   ],
   "source": [
    "#Filling Numerical Columns\n",
    "df['LoanAmount'] = df['LoanAmount'].fillna(df['LoanAmount'].mean())\n",
    "df['Loan_Amount_Term'] = df['Loan_Amount_Term'].fillna(df['Loan_Amount_Term'].mean())\n",
    "df['Credit_History'] = df['Credit_History'].fillna(df['Credit_History'].mean())\n",
    "#df['LoanAmount'].fillna(value = df['LoanAmount'].mean(), inplace = True )\n",
    "df.isnull().sum()"
   ]
  },
  {
   "cell_type": "code",
   "execution_count": 7,
   "id": "cca86fde",
   "metadata": {},
   "outputs": [
    {
     "data": {
      "text/plain": [
       "Loan_ID              0\n",
       "Gender               0\n",
       "Married              0\n",
       "Dependents           0\n",
       "Education            0\n",
       "Self_Employed        0\n",
       "ApplicantIncome      0\n",
       "CoapplicantIncome    0\n",
       "LoanAmount           0\n",
       "Loan_Amount_Term     0\n",
       "Credit_History       0\n",
       "Property_Area        0\n",
       "Loan_Status          0\n",
       "dtype: int64"
      ]
     },
     "execution_count": 7,
     "metadata": {},
     "output_type": "execute_result"
    }
   ],
   "source": [
    "#Filing Categorical Columns\n",
    "df['Gender'] = df['Gender'].fillna(df['Gender'].mode()[0])\n",
    "df['Married'] = df['Married'].fillna(df['Married'].mode()[0])\n",
    "df['Dependents'] = df['Dependents'].fillna(df['Dependents'].mode()[0])\n",
    "df['Self_Employed'] = df['Self_Employed'].fillna(df['Self_Employed'].mode()[0])\n",
    "df.isnull().sum()"
   ]
  },
  {
   "cell_type": "markdown",
   "id": "1e256c97",
   "metadata": {},
   "source": [
    "### Data visualisation of Categorical Features"
   ]
  },
  {
   "cell_type": "code",
   "execution_count": 8,
   "id": "5c037bdb",
   "metadata": {},
   "outputs": [
    {
     "name": "stdout",
     "output_type": "stream",
     "text": [
      "Loan_Status    N    Y\n",
      "Gender               \n",
      "Female        37   75\n",
      "Male         155  347\n"
     ]
    },
    {
     "data": {
      "text/plain": [
       "Text(0.5, 1.0, 'Gender and Loan approval')"
      ]
     },
     "execution_count": 8,
     "metadata": {},
     "output_type": "execute_result"
    },
    {
     "data": {
      "image/png": "[encoded data removed]",
      "text/plain": [
       "<Figure size 432x288 with 1 Axes>"
      ]
     },
     "metadata": {
      "needs_background": "light"
     },
     "output_type": "display_data"
    }
   ],
   "source": [
    "#Data visualization with respect to each feature\n",
    "\n",
    "#Categorical features\n",
    "#1.Gender and Loan approval\n",
    "print(pd.crosstab(df['Gender'],df['Loan_Status']))\n",
    "sns.countplot(x = df['Gender'],hue=df['Loan_Status'],data=df)\n",
    "plt.title(\"Gender and Loan approval\")"
   ]
  },
  {
   "cell_type": "code",
   "execution_count": 9,
   "id": "4c6120ff",
   "metadata": {},
   "outputs": [
    {
     "name": "stdout",
     "output_type": "stream",
     "text": [
      "Loan_Status    N    Y\n",
      "Married              \n",
      "No            79  134\n",
      "Yes          113  288\n"
     ]
    },
    {
     "data": {
      "text/plain": [
       "Text(0.5, 1.0, 'Marital status and Loan approval')"
      ]
     },
     "execution_count": 9,
     "metadata": {},
     "output_type": "execute_result"
    },
    {
     "data": {
      "image/png": "[encoded data removed]",
      "text/plain": [
       "<Figure size 432x288 with 1 Axes>"
      ]
     },
     "metadata": {
      "needs_background": "light"
     },
     "output_type": "display_data"
    }
   ],
   "source": [
    "#2.Marital status and Loan approval\n",
    "print(pd.crosstab(df['Married'],df['Loan_Status']))\n",
    "sns.countplot(x=df['Married'],hue=df['Loan_Status'],data=df)\n",
    "plt.title(\"Marital status and Loan approval\")"
   ]
  },
  {
   "cell_type": "code",
   "execution_count": 10,
   "id": "67c815ad",
   "metadata": {},
   "outputs": [
    {
     "name": "stdout",
     "output_type": "stream",
     "text": [
      "Loan_Status     N    Y\n",
      "Education             \n",
      "Graduate      140  340\n",
      "Not Graduate   52   82\n"
     ]
    },
    {
     "data": {
      "text/plain": [
       "Text(0.5, 1.0, 'Graduation and Loan approval')"
      ]
     },
     "execution_count": 10,
     "metadata": {},
     "output_type": "execute_result"
    },
    {
     "data": {
      "image/png": "[encoded data removed]",
      "text/plain": [
       "<Figure size 432x288 with 1 Axes>"
      ]
     },
     "metadata": {
      "needs_background": "light"
     },
     "output_type": "display_data"
    }
   ],
   "source": [
    "#3.Graduation and Loan approval\n",
    "print(pd.crosstab(df['Education'],df['Loan_Status']))\n",
    "sns.countplot(x=df['Education'],hue=df['Loan_Status'],data=df)\n",
    "plt.title(\"Graduation and Loan approval\")"
   ]
  },
  {
   "cell_type": "code",
   "execution_count": 11,
   "id": "54cb40dd",
   "metadata": {},
   "outputs": [
    {
     "name": "stdout",
     "output_type": "stream",
     "text": [
      "Loan_Status      N    Y\n",
      "Self_Employed          \n",
      "No             166  366\n",
      "Yes             26   56\n"
     ]
    },
    {
     "data": {
      "text/plain": [
       "Text(0.5, 1.0, 'Self Employment and Loan approval')"
      ]
     },
     "execution_count": 11,
     "metadata": {},
     "output_type": "execute_result"
    },
    {
     "data": {
      "image/png": "[encoded data removed]",
      "text/plain": [
       "<Figure size 432x288 with 1 Axes>"
      ]
     },
     "metadata": {
      "needs_background": "light"
     },
     "output_type": "display_data"
    }
   ],
   "source": [
    "#4.Self Employment and Loan approval\n",
    "print(pd.crosstab(df['Self_Employed'],df['Loan_Status']))\n",
    "sns.countplot(x=df['Self_Employed'],hue=df['Loan_Status'],data=df)\n",
    "plt.title(\"Self Employment and Loan approval\")"
   ]
  },
  {
   "cell_type": "code",
   "execution_count": 12,
   "id": "d416eb93",
   "metadata": {},
   "outputs": [
    {
     "name": "stdout",
     "output_type": "stream",
     "text": [
      "Loan_Status     N    Y\n",
      "Property_Area         \n",
      "Rural          69  110\n",
      "Semiurban      54  179\n",
      "Urban          69  133\n"
     ]
    },
    {
     "data": {
      "text/plain": [
       "Text(0.5, 1.0, 'Property Area and Loan approval')"
      ]
     },
     "execution_count": 12,
     "metadata": {},
     "output_type": "execute_result"
    },
    {
     "data": {
      "image/png": "[encoded data removed]",
      "text/plain": [
       "<Figure size 432x288 with 1 Axes>"
      ]
     },
     "metadata": {
      "needs_background": "light"
     },
     "output_type": "display_data"
    }
   ],
   "source": [
    "#5.Property Area and Loan approval\n",
    "print(pd.crosstab(df['Property_Area'],df['Loan_Status']))\n",
    "sns.countplot(x=df['Property_Area'],hue=df['Loan_Status'],data=df)\n",
    "plt.title(\"Property Area and Loan approval\")"
   ]
  },
  {
   "cell_type": "code",
   "execution_count": 13,
   "id": "13540127",
   "metadata": {},
   "outputs": [
    {
     "name": "stdout",
     "output_type": "stream",
     "text": [
      "Loan_Status    N    Y\n",
      "Dependents           \n",
      "0            113  247\n",
      "1             36   66\n",
      "2             25   76\n",
      "3+            18   33\n"
     ]
    },
    {
     "data": {
      "text/plain": [
       "Text(0.5, 1.0, 'No. of Dependants and Loan approval')"
      ]
     },
     "execution_count": 13,
     "metadata": {},
     "output_type": "execute_result"
    },
    {
     "data": {
      "image/png": "[encoded data removed]",
      "text/plain": [
       "<Figure size 432x288 with 1 Axes>"
      ]
     },
     "metadata": {
      "needs_background": "light"
     },
     "output_type": "display_data"
    }
   ],
   "source": [
    "#6.No. of Dependants and Loan approval\n",
    "print(pd.crosstab(df['Dependents'],df['Loan_Status']))\n",
    "sns.countplot(x=df['Dependents'],hue=df['Loan_Status'],data=df)\n",
    "plt.title(\"No. of Dependants and Loan approval\")"
   ]
  },
  {
   "cell_type": "code",
   "execution_count": 14,
   "id": "89a90548",
   "metadata": {},
   "outputs": [
    {
     "data": {
      "text/plain": [
       "<AxesSubplot:xlabel='Loan_Status', ylabel='count'>"
      ]
     },
     "execution_count": 14,
     "metadata": {},
     "output_type": "execute_result"
    },
    {
     "data": {
      "image/png": "[encoded data removed]",
      "text/plain": [
       "<Figure size 432x288 with 1 Axes>"
      ]
     },
     "metadata": {
      "needs_background": "light"
     },
     "output_type": "display_data"
    }
   ],
   "source": [
    "sns.countplot(x=df['Loan_Status'])\n",
    "#df['Gender'].value_counts().plot(kind = 'bar', rot = 0)"
   ]
  },
  {
   "cell_type": "markdown",
   "id": "3e3dddf6",
   "metadata": {},
   "source": [
    "### Data visualisation of Numerical Features "
   ]
  },
  {
   "cell_type": "code",
   "execution_count": 15,
   "id": "f20f1c94",
   "metadata": {},
   "outputs": [
    {
     "data": {
      "image/png": "[encoded data removed]",
      "text/plain": [
       "<Figure size 432x288 with 1 Axes>"
      ]
     },
     "metadata": {
      "needs_background": "light"
     },
     "output_type": "display_data"
    },
    {
     "data": {
      "text/plain": [
       "'df.boxplot(column=\\'ApplicantIncome\\', by=\\'Loan_Status\\')\\nplt.title(\"Applicant income vs Loan status\")\\nplt.suptitle(\\'\\')\\nplt.ylim([0,10000])\\nplt.show()\\nprint(df[\\'ApplicantIncome\\'].mean())'"
      ]
     },
     "execution_count": 15,
     "metadata": {},
     "output_type": "execute_result"
    }
   ],
   "source": [
    "#Numerical features\n",
    "#1.Applicant income vs Loan Approval\n",
    "plt.grid()\n",
    "sns.barplot(y = df['ApplicantIncome'],x=df['Loan_Status'])\n",
    "plt.title(\"Applicant income vs Loan status\")\n",
    "#plt.ylim([5000,6000])\n",
    "plt.show()\n",
    "'''df.boxplot(column='ApplicantIncome', by='Loan_Status')\n",
    "plt.title(\"Applicant income vs Loan status\")\n",
    "plt.suptitle('')\n",
    "plt.ylim([0,10000])\n",
    "plt.show()\n",
    "print(df['ApplicantIncome'].mean())'''"
   ]
  },
  {
   "cell_type": "code",
   "execution_count": 16,
   "id": "0891638f",
   "metadata": {},
   "outputs": [
    {
     "data": {
      "image/png": "[encoded data removed]",
      "text/plain": [
       "<Figure size 432x288 with 1 Axes>"
      ]
     },
     "metadata": {
      "needs_background": "light"
     },
     "output_type": "display_data"
    },
    {
     "data": {
      "text/plain": [
       "'plt.grid()\\nsns.histplot(x = df[\\'CoapplicantIncome\\'],hue=df[\\'Loan_Status\\'],multiple = \"dodge\")\\nplt.show()\\nsns.barplot(y = df[\\'CoapplicantIncome\\'],x=df[\\'Loan_Status\\'])\\nplt.show()'"
      ]
     },
     "execution_count": 16,
     "metadata": {},
     "output_type": "execute_result"
    }
   ],
   "source": [
    "#2.Coapplicant income vs Loan Approval\n",
    "plt.grid()\n",
    "sns.barplot(y = df['CoapplicantIncome'],x=df['Loan_Status'])\n",
    "plt.title(\"Coapplicant income vs Loan status\")\n",
    "#plt.ylim([5000,6000])\n",
    "plt.show()\n",
    "'''plt.grid()\n",
    "sns.histplot(x = df['CoapplicantIncome'],hue=df['Loan_Status'],multiple = \"dodge\")\n",
    "plt.show()\n",
    "sns.barplot(y = df['CoapplicantIncome'],x=df['Loan_Status'])\n",
    "plt.show()'''"
   ]
  },
  {
   "cell_type": "code",
   "execution_count": 17,
   "id": "f030d9a0",
   "metadata": {},
   "outputs": [
    {
     "data": {
      "image/png": "[encoded data removed]",
      "text/plain": [
       "<Figure size 432x288 with 1 Axes>"
      ]
     },
     "metadata": {
      "needs_background": "light"
     },
     "output_type": "display_data"
    },
    {
     "data": {
      "text/plain": [
       "'plt.grid()\\nsns.histplot(x=df[\\'LoanAmount\\'],hue=df[\\'Loan_Status\\'],multiple = \"dodge\")'"
      ]
     },
     "execution_count": 17,
     "metadata": {},
     "output_type": "execute_result"
    }
   ],
   "source": [
    "#3.Loan Amount vs Loan Approval\n",
    "plt.grid()\n",
    "sns.barplot(y = df['LoanAmount'],x=df['Loan_Status'])\n",
    "plt.title(\"Loan Amount vs Loan Approval\")\n",
    "#plt.ylim([5000,6000])\n",
    "plt.show()\n",
    "'''plt.grid()\n",
    "sns.histplot(x=df['LoanAmount'],hue=df['Loan_Status'],multiple = \"dodge\")'''"
   ]
  },
  {
   "cell_type": "code",
   "execution_count": 18,
   "id": "45bbcf7a",
   "metadata": {},
   "outputs": [
    {
     "data": {
      "image/png": "[encoded data removed]",
      "text/plain": [
       "<Figure size 432x288 with 1 Axes>"
      ]
     },
     "metadata": {
      "needs_background": "light"
     },
     "output_type": "display_data"
    },
    {
     "data": {
      "text/plain": [
       "'plt.grid()\\nsns.histplot(x=df[\\'Loan_Amount_Term\\'],hue=df[\\'Loan_Status\\'],multiple = \"dodge\")'"
      ]
     },
     "execution_count": 18,
     "metadata": {},
     "output_type": "execute_result"
    }
   ],
   "source": [
    "#3.Loan Term vs Loan Approval\n",
    "plt.grid()\n",
    "sns.barplot(y = df['Loan_Amount_Term'],x=df['Loan_Status'])\n",
    "plt.title(\"Loan Term vs Loan Approval\")\n",
    "#plt.ylim([5000,6000])\n",
    "plt.show()\n",
    "'''plt.grid()\n",
    "sns.histplot(x=df['Loan_Amount_Term'],hue=df['Loan_Status'],multiple = \"dodge\")'''"
   ]
  },
  {
   "cell_type": "code",
   "execution_count": 19,
   "id": "f4a698e7",
   "metadata": {},
   "outputs": [
    {
     "data": {
      "image/png": "[encoded data removed]",
      "text/plain": [
       "<Figure size 432x288 with 1 Axes>"
      ]
     },
     "metadata": {
      "needs_background": "light"
     },
     "output_type": "display_data"
    },
    {
     "data": {
      "text/plain": [
       "'plt.grid()\\nsns.histplot(x=df[\\'Credit_History\\'],hue=df[\\'Loan_Status\\'],multiple=\"dodge\")'"
      ]
     },
     "execution_count": 19,
     "metadata": {},
     "output_type": "execute_result"
    }
   ],
   "source": [
    "#3.Credit_History vs Loan Approval\n",
    "plt.grid()\n",
    "sns.barplot(y = df['Credit_History'],x=df['Loan_Status'])\n",
    "plt.title(\"Credit_History vs Loan Approval\")\n",
    "#plt.ylim([5000,6000])\n",
    "plt.show()\n",
    "'''plt.grid()\n",
    "sns.histplot(x=df['Credit_History'],hue=df['Loan_Status'],multiple=\"dodge\")'''"
   ]
  },
  {
   "cell_type": "markdown",
   "id": "63d0b370",
   "metadata": {},
   "source": [
    "### Encoding Data "
   ]
  },
  {
   "cell_type": "code",
   "execution_count": 20,
   "id": "ae4cfdb3",
   "metadata": {},
   "outputs": [
    {
     "data": {
      "text/html": [
       "<div>\n",
       "<style scoped>\n",
       "    .dataframe tbody tr th:only-of-type {\n",
       "        vertical-align: middle;\n",
       "    }\n",
       "\n",
       "    .dataframe tbody tr th {\n",
       "        vertical-align: top;\n",
       "    }\n",
       "\n",
       "    .dataframe thead th {\n",
       "        text-align: right;\n",
       "    }\n",
       "</style>\n",
       "<table border=\"1\" class=\"dataframe\">\n",
       "  <thead>\n",
       "    <tr style=\"text-align: right;\">\n",
       "      <th></th>\n",
       "      <th>Loan_ID</th>\n",
       "      <th>Gender</th>\n",
       "      <th>Married</th>\n",
       "      <th>Dependents</th>\n",
       "      <th>Education</th>\n",
       "      <th>Self_Employed</th>\n",
       "      <th>ApplicantIncome</th>\n",
       "      <th>CoapplicantIncome</th>\n",
       "      <th>LoanAmount</th>\n",
       "      <th>Loan_Amount_Term</th>\n",
       "      <th>Credit_History</th>\n",
       "      <th>Property_Area</th>\n",
       "      <th>Loan_Status</th>\n",
       "    </tr>\n",
       "  </thead>\n",
       "  <tbody>\n",
       "    <tr>\n",
       "      <th>0</th>\n",
       "      <td>LP001002</td>\n",
       "      <td>1</td>\n",
       "      <td>0</td>\n",
       "      <td>0</td>\n",
       "      <td>0</td>\n",
       "      <td>0</td>\n",
       "      <td>5849</td>\n",
       "      <td>0.0</td>\n",
       "      <td>146.412162</td>\n",
       "      <td>360.0</td>\n",
       "      <td>1.0</td>\n",
       "      <td>2</td>\n",
       "      <td>1</td>\n",
       "    </tr>\n",
       "    <tr>\n",
       "      <th>1</th>\n",
       "      <td>LP001003</td>\n",
       "      <td>1</td>\n",
       "      <td>1</td>\n",
       "      <td>1</td>\n",
       "      <td>0</td>\n",
       "      <td>0</td>\n",
       "      <td>4583</td>\n",
       "      <td>1508.0</td>\n",
       "      <td>128.000000</td>\n",
       "      <td>360.0</td>\n",
       "      <td>1.0</td>\n",
       "      <td>0</td>\n",
       "      <td>0</td>\n",
       "    </tr>\n",
       "    <tr>\n",
       "      <th>2</th>\n",
       "      <td>LP001005</td>\n",
       "      <td>1</td>\n",
       "      <td>1</td>\n",
       "      <td>0</td>\n",
       "      <td>0</td>\n",
       "      <td>1</td>\n",
       "      <td>3000</td>\n",
       "      <td>0.0</td>\n",
       "      <td>66.000000</td>\n",
       "      <td>360.0</td>\n",
       "      <td>1.0</td>\n",
       "      <td>2</td>\n",
       "      <td>1</td>\n",
       "    </tr>\n",
       "    <tr>\n",
       "      <th>3</th>\n",
       "      <td>LP001006</td>\n",
       "      <td>1</td>\n",
       "      <td>1</td>\n",
       "      <td>0</td>\n",
       "      <td>1</td>\n",
       "      <td>0</td>\n",
       "      <td>2583</td>\n",
       "      <td>2358.0</td>\n",
       "      <td>120.000000</td>\n",
       "      <td>360.0</td>\n",
       "      <td>1.0</td>\n",
       "      <td>2</td>\n",
       "      <td>1</td>\n",
       "    </tr>\n",
       "    <tr>\n",
       "      <th>4</th>\n",
       "      <td>LP001008</td>\n",
       "      <td>1</td>\n",
       "      <td>0</td>\n",
       "      <td>0</td>\n",
       "      <td>0</td>\n",
       "      <td>0</td>\n",
       "      <td>6000</td>\n",
       "      <td>0.0</td>\n",
       "      <td>141.000000</td>\n",
       "      <td>360.0</td>\n",
       "      <td>1.0</td>\n",
       "      <td>2</td>\n",
       "      <td>1</td>\n",
       "    </tr>\n",
       "  </tbody>\n",
       "</table>\n",
       "</div>"
      ],
      "text/plain": [
       "    Loan_ID  Gender  Married  Dependents  Education  Self_Employed  \\\n",
       "0  LP001002       1        0           0          0              0   \n",
       "1  LP001003       1        1           1          0              0   \n",
       "2  LP001005       1        1           0          0              1   \n",
       "3  LP001006       1        1           0          1              0   \n",
       "4  LP001008       1        0           0          0              0   \n",
       "\n",
       "   ApplicantIncome  CoapplicantIncome  LoanAmount  Loan_Amount_Term  \\\n",
       "0             5849                0.0  146.412162             360.0   \n",
       "1             4583             1508.0  128.000000             360.0   \n",
       "2             3000                0.0   66.000000             360.0   \n",
       "3             2583             2358.0  120.000000             360.0   \n",
       "4             6000                0.0  141.000000             360.0   \n",
       "\n",
       "   Credit_History  Property_Area  Loan_Status  \n",
       "0             1.0              2            1  \n",
       "1             1.0              0            0  \n",
       "2             1.0              2            1  \n",
       "3             1.0              2            1  \n",
       "4             1.0              2            1  "
      ]
     },
     "execution_count": 20,
     "metadata": {},
     "output_type": "execute_result"
    }
   ],
   "source": [
    "#Encoding data\n",
    "from sklearn.preprocessing import LabelEncoder\n",
    "le = LabelEncoder()\n",
    "col = ['Gender','Married','Dependents','Education','Self_Employed','Property_Area','Loan_Status']\n",
    "for i in col:\n",
    "    df[i] = le.fit_transform(df[i])\n",
    "df.head()"
   ]
  },
  {
   "cell_type": "code",
   "execution_count": 21,
   "id": "68d7b17a",
   "metadata": {},
   "outputs": [
    {
     "name": "stdout",
     "output_type": "stream",
     "text": [
      "<class 'pandas.core.frame.DataFrame'>\n",
      "RangeIndex: 614 entries, 0 to 613\n",
      "Data columns (total 13 columns):\n",
      " #   Column             Non-Null Count  Dtype  \n",
      "---  ------             --------------  -----  \n",
      " 0   Loan_ID            614 non-null    object \n",
      " 1   Gender             614 non-null    int32  \n",
      " 2   Married            614 non-null    int32  \n",
      " 3   Dependents         614 non-null    int32  \n",
      " 4   Education          614 non-null    int32  \n",
      " 5   Self_Employed      614 non-null    int32  \n",
      " 6   ApplicantIncome    614 non-null    int64  \n",
      " 7   CoapplicantIncome  614 non-null    float64\n",
      " 8   LoanAmount         614 non-null    float64\n",
      " 9   Loan_Amount_Term   614 non-null    float64\n",
      " 10  Credit_History     614 non-null    float64\n",
      " 11  Property_Area      614 non-null    int32  \n",
      " 12  Loan_Status        614 non-null    int32  \n",
      "dtypes: float64(4), int32(7), int64(1), object(1)\n",
      "memory usage: 45.7+ KB\n"
     ]
    }
   ],
   "source": [
    "df.info()"
   ]
  },
  {
   "cell_type": "markdown",
   "id": "4aaf7dfb",
   "metadata": {},
   "source": [
    "### Correlation Matrix"
   ]
  },
  {
   "cell_type": "code",
   "execution_count": 22,
   "id": "fb7f4c5f",
   "metadata": {},
   "outputs": [
    {
     "data": {
      "text/plain": [
       "<AxesSubplot:>"
      ]
     },
     "execution_count": 22,
     "metadata": {},
     "output_type": "execute_result"
    },
    {
     "data": {
      "image/png": "[encoded data removed]",
      "text/plain": [
       "<Figure size 864x576 with 2 Axes>"
      ]
     },
     "metadata": {
      "needs_background": "light"
     },
     "output_type": "display_data"
    }
   ],
   "source": [
    "#Correlation Matrix\n",
    "plt.figure(figsize=(12,8))\n",
    "sns.heatmap(df.corr(), annot = True)"
   ]
  },
  {
   "cell_type": "markdown",
   "id": "1859fba2",
   "metadata": {},
   "source": [
    "### Separating Features and Outcome"
   ]
  },
  {
   "cell_type": "code",
   "execution_count": 23,
   "id": "7ffcb4d8",
   "metadata": {},
   "outputs": [],
   "source": [
    "#Separating Features and Outcomes\n",
    "X = df.loc[:,'Gender':'Property_Area'].values\n",
    "Y = df.loc[:,'Loan_Status'].values"
   ]
  },
  {
   "cell_type": "markdown",
   "id": "e1adbe84",
   "metadata": {},
   "source": [
    "### Spliting Dataset into Training and Test Data "
   ]
  },
  {
   "cell_type": "code",
   "execution_count": 24,
   "id": "b67d2258",
   "metadata": {},
   "outputs": [],
   "source": [
    "#Splitting dataset into Training and Test Data\n",
    "from sklearn.model_selection import train_test_split \n",
    "X_train,X_test,Y_train,Y_test = train_test_split(X, Y, test_size = 0.2, random_state = 42)\n"
   ]
  },
  {
   "cell_type": "markdown",
   "id": "55db351c",
   "metadata": {},
   "source": [
    "### Scaling Features"
   ]
  },
  {
   "cell_type": "code",
   "execution_count": 25,
   "id": "c13bbcaf",
   "metadata": {},
   "outputs": [],
   "source": [
    "#Scaling the featues\n",
    "from sklearn.preprocessing import StandardScaler\n",
    "sc = StandardScaler()\n",
    "X_train = sc.fit_transform(X_train)\n",
    "X_test = sc.fit_transform(X_test)"
   ]
  },
  {
   "cell_type": "markdown",
   "id": "a70caee8",
   "metadata": {},
   "source": [
    "### KNN - Classifier "
   ]
  },
  {
   "cell_type": "code",
   "execution_count": 26,
   "id": "744f8269",
   "metadata": {},
   "outputs": [
    {
     "name": "stdout",
     "output_type": "stream",
     "text": [
      "Confusion Matrix for KNN-Classifier: \n",
      " [[15 28]\n",
      " [ 2 78]]\n",
      "Accuracy for KNN-Classifier: 0.7560975609756098\n",
      "New Customer class  [1]\n",
      "Loan Approved.\n"
     ]
    }
   ],
   "source": [
    "#Fitting Data to Machine learning models\n",
    "acc = []\n",
    "#1.K_NearestNeighbour\n",
    "from sklearn.neighbors import KNeighborsClassifier\n",
    "classifier = KNeighborsClassifier(weights = 'distance')\n",
    "classifier.fit(X_train,Y_train)\n",
    "\n",
    "Y_pred = classifier.predict(X_test)\n",
    "\n",
    "from sklearn.metrics import confusion_matrix\n",
    "print(\"Confusion Matrix for KNN-Classifier: \\n\",confusion_matrix(Y_test, Y_pred))\n",
    "\n",
    "from sklearn.metrics import accuracy_score\n",
    "acc.append(accuracy_score(Y_test, Y_pred))\n",
    "print(\"Accuracy for KNN-Classifier:\",accuracy_score(Y_test, Y_pred))\n",
    "k = classifier.predict(sc.transform([[1,1,0,0,0,2958,2900.0,131.0,360.0,1.0,1]]))\n",
    "print(\"New Customer class \",k)\n",
    "if(k[0]==0):\n",
    "    print(\"Loan NOT Approved.\")\n",
    "else:\n",
    "    print(\"Loan Approved.\")"
   ]
  },
  {
   "cell_type": "markdown",
   "id": "2ff83d4f",
   "metadata": {},
   "source": [
    "### Support Vector Machine "
   ]
  },
  {
   "cell_type": "code",
   "execution_count": 27,
   "id": "2f6eae25",
   "metadata": {},
   "outputs": [
    {
     "name": "stdout",
     "output_type": "stream",
     "text": [
      "Confusion Matrix for SVM-Classifier: \n",
      " [[19 24]\n",
      " [ 1 79]]\n",
      "Accuracy for SVM-Classifier:  0.7967479674796748\n",
      "New Customer class  [1]\n",
      "Loan Approved.\n"
     ]
    }
   ],
   "source": [
    "#2.Support Vector Machine\n",
    "from sklearn.svm import SVC\n",
    "#LINEAR classifier = SVC(kernel = 'linear', random_state = 42)\n",
    "#RBF classifier = SVC(kernel = 'rbf', random_state = 42)\n",
    "#SIGMOID classifier = SVC(kernel = 'sigmoid', random_state = 42)\n",
    "classifier = SVC(kernel = 'poly', degree = 4, random_state = 42)\n",
    "classifier.fit(X_train,Y_train)\n",
    "\n",
    "Y_pred = classifier.predict(X_test)\n",
    "\n",
    "from sklearn.metrics import confusion_matrix\n",
    "print(\"Confusion Matrix for SVM-Classifier: \\n\",confusion_matrix(Y_test, Y_pred))\n",
    "\n",
    "from sklearn.metrics import accuracy_score\n",
    "acc.append(accuracy_score(Y_test, Y_pred))\n",
    "print(\"Accuracy for SVM-Classifier: \",accuracy_score(Y_test, Y_pred))\n",
    "k = classifier.predict(sc.transform([[1,1,0,0,0,2958,2900.0,131.0,360.0,1.0,1]]))\n",
    "print(\"New Customer class \",k)\n",
    "if(k[0]==0):\n",
    "    print(\"Loan NOT Approved.\")\n",
    "else:\n",
    "    print(\"Loan Approved.\")"
   ]
  },
  {
   "cell_type": "markdown",
   "id": "3fd4f84f",
   "metadata": {},
   "source": [
    "### Naive Bayes  "
   ]
  },
  {
   "cell_type": "code",
   "execution_count": 28,
   "id": "48770324",
   "metadata": {},
   "outputs": [
    {
     "name": "stdout",
     "output_type": "stream",
     "text": [
      "Confusion Matrix for Naive Bayes-Classifier: \n",
      " [[21 22]\n",
      " [ 7 73]]\n",
      "Accuracy for Naive Bayes-Classifier:  0.7642276422764228\n",
      "New Customer class  [1]\n",
      "Loan Approved.\n"
     ]
    }
   ],
   "source": [
    "#3.Naive Bayes\n",
    "from sklearn.naive_bayes import GaussianNB\n",
    "classifier = GaussianNB()\n",
    "classifier.fit(X_train,Y_train)\n",
    "\n",
    "Y_pred = classifier.predict(X_test)\n",
    "\n",
    "from sklearn.metrics import confusion_matrix\n",
    "print(\"Confusion Matrix for Naive Bayes-Classifier: \\n\",confusion_matrix(Y_test, Y_pred))\n",
    "\n",
    "from sklearn.metrics import accuracy_score\n",
    "acc.append(accuracy_score(Y_test, Y_pred))\n",
    "print(\"Accuracy for Naive Bayes-Classifier: \",accuracy_score(Y_test, Y_pred))\n",
    "k = classifier.predict(sc.transform([[1,1,0,0,0,2958,2900.0,131.0,360.0,1.0,1]]))\n",
    "print(\"New Customer class \",k)\n",
    "if(k[0]==0):\n",
    "    print(\"Loan NOT Approved.\")\n",
    "else:\n",
    "    print(\"Loan Approved.\")"
   ]
  },
  {
   "cell_type": "markdown",
   "id": "d3b5bcef",
   "metadata": {},
   "source": [
    "### Logistic Regression "
   ]
  },
  {
   "cell_type": "code",
   "execution_count": 29,
   "id": "6660374e",
   "metadata": {},
   "outputs": [
    {
     "name": "stdout",
     "output_type": "stream",
     "text": [
      "Confusion Matrix for Logistic Regression-Classifier: \n",
      " [[18 25]\n",
      " [ 1 79]]\n",
      "Accuracy for Logistic Regression-Classifier:  0.7886178861788617\n",
      "New Customer  [1]\n",
      "Loan Approved.\n"
     ]
    }
   ],
   "source": [
    "#4.Logistic Regression\n",
    "from sklearn.linear_model import LogisticRegression\n",
    "classifier = LogisticRegression()\n",
    "classifier.fit(X_train,Y_train)\n",
    "\n",
    "Y_pred = classifier.predict(X_test)\n",
    "\n",
    "from sklearn.metrics import confusion_matrix\n",
    "print(\"Confusion Matrix for Logistic Regression-Classifier: \\n\",confusion_matrix(Y_test, Y_pred))\n",
    "\n",
    "from sklearn.metrics import accuracy_score\n",
    "acc.append(accuracy_score(Y_test, Y_pred))\n",
    "print(\"Accuracy for Logistic Regression-Classifier: \",accuracy_score(Y_test, Y_pred))\n",
    "k = classifier.predict(sc.transform([[1,1,0,0,0,2958,2900.0,131.0,360.0,1.0,1]]))\n",
    "print(\"New Customer \",k)\n",
    "if(k[0]==0):\n",
    "    print(\"Loan NOT Approved.\")\n",
    "else:\n",
    "    print(\"Loan Approved.\")"
   ]
  },
  {
   "cell_type": "markdown",
   "id": "9d97f7dd",
   "metadata": {},
   "source": [
    "### Decision Tree "
   ]
  },
  {
   "cell_type": "code",
   "execution_count": 30,
   "id": "f2a8d1af",
   "metadata": {},
   "outputs": [
    {
     "name": "stdout",
     "output_type": "stream",
     "text": [
      "Confusion Matrix for Decision Tree-Classifier: \n",
      " [[23 20]\n",
      " [21 59]]\n",
      "Accuracy for Decision Tree-Classifier:  0.6666666666666666\n",
      "New Customer class  [1]\n",
      "Loan Approved.\n"
     ]
    }
   ],
   "source": [
    "#5.Decision Tree\n",
    "from sklearn.tree import DecisionTreeClassifier\n",
    "classifier = DecisionTreeClassifier(criterion = 'gini',random_state = 0)\n",
    "classifier.fit(X_train,Y_train)\n",
    "\n",
    "Y_pred = classifier.predict(X_test)\n",
    "\n",
    "from sklearn.metrics import confusion_matrix\n",
    "print(\"Confusion Matrix for Decision Tree-Classifier: \\n\",confusion_matrix(Y_test, Y_pred))\n",
    "\n",
    "from sklearn.metrics import accuracy_score\n",
    "acc.append(accuracy_score(Y_test, Y_pred))\n",
    "print(\"Accuracy for Decision Tree-Classifier: \",accuracy_score(Y_test, Y_pred))\n",
    "k = classifier.predict(sc.transform([[1,1,0,0,0,2958,2900.0,131.0,360.0,1.0,1]]))\n",
    "print(\"New Customer class \",k)\n",
    "if(k[0]==0):\n",
    "    print(\"Loan NOT Approved.\")\n",
    "else:\n",
    "    print(\"Loan Approved.\")"
   ]
  },
  {
   "cell_type": "markdown",
   "id": "7a61602e",
   "metadata": {},
   "source": [
    "### Random Forest "
   ]
  },
  {
   "cell_type": "code",
   "execution_count": 31,
   "id": "be207480",
   "metadata": {},
   "outputs": [
    {
     "name": "stdout",
     "output_type": "stream",
     "text": [
      "Confusion Matrix for Random Forest-Classifier: \n",
      " [[19 24]\n",
      " [ 3 77]]\n",
      "Accuracy for Random Forest-Classifier:  0.7804878048780488\n",
      "New Customer class  [1]\n",
      "Loan Approved.\n"
     ]
    }
   ],
   "source": [
    "#6.Random Forest\n",
    "from sklearn.ensemble import RandomForestClassifier\n",
    "classifier = RandomForestClassifier(n_estimators = 150, criterion = 'gini',random_state = 0)\n",
    "classifier.fit(X_train,Y_train)\n",
    "\n",
    "Y_pred = classifier.predict(X_test)\n",
    "\n",
    "from sklearn.metrics import confusion_matrix\n",
    "print(\"Confusion Matrix for Random Forest-Classifier: \\n\",confusion_matrix(Y_test, Y_pred))\n",
    "\n",
    "from sklearn.metrics import accuracy_score\n",
    "acc.append(accuracy_score(Y_test, Y_pred))\n",
    "print(\"Accuracy for Random Forest-Classifier: \",accuracy_score(Y_test, Y_pred))\n",
    "k = classifier.predict(sc.transform([[1,1,0,0,0,2958,2900.0,131.0,360.0,1.0,1]]))\n",
    "print(\"New Customer class \",k)\n",
    "if(k[0]==0):\n",
    "    print(\"Loan NOT Approved.\")\n",
    "else:\n",
    "    print(\"Loan Approved.\")"
   ]
  },
  {
   "cell_type": "markdown",
   "id": "7b2bc2ba",
   "metadata": {},
   "source": [
    "### Accuracy Comparisons "
   ]
  },
  {
   "cell_type": "code",
   "execution_count": 32,
   "id": "6ab2be06",
   "metadata": {},
   "outputs": [
    {
     "data": {
      "image/png": "[encoded data removed]",
      "text/plain": [
       "<Figure size 432x288 with 1 Axes>"
      ]
     },
     "metadata": {
      "needs_background": "light"
     },
     "output_type": "display_data"
    }
   ],
   "source": [
    "alg = ['KNN','SVM','Naive Bayes','Logistic Regression','Decision Tree','Random Forest']\n",
    "plt.bar(alg,acc)\n",
    "plt.ylim([0.6,0.8])\n",
    "plt.grid()\n",
    "plt.title(\"Accuracy Comaprisons\")\n",
    "#plt.plot(acc)\n",
    "plt.xticks(rotation = 45)\n",
    "plt.show()\n"
   ]
  },
  {
   "cell_type": "markdown",
   "id": "69722143",
   "metadata": {},
   "source": [
    "### It is seen that SVM gives the best accuracy. Therefore for this dataset SVM model is best suited."
   ]
  }
 ],
 "metadata": {
  "kernelspec": {
   "display_name": "Python 3",
   "language": "python",
   "name": "python3"
  },
  "language_info": {
   "codemirror_mode": {
    "name": "ipython",
    "version": 3
   },
   "file_extension": ".py",
   "mimetype": "text/x-python",
   "name": "python",
   "nbconvert_exporter": "python",
   "pygments_lexer": "ipython3",
   "version": "3.8.8"
  }
 },
 "nbformat": 4,
 "nbformat_minor": 5
}
